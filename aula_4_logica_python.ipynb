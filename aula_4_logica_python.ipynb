{
 "cells": [
  {
   "cell_type": "markdown",
   "metadata": {},
   "source": [
    "# **Aula 4) O sistema de imports**"
   ]
  },
  {
   "cell_type": "markdown",
   "metadata": {},
   "source": [
    "# Tipos em uma lista\n",
    "\n",
    "Em Python, listas de objetos são representadas pelo tipo list. Esse tipo de dados é basicamente uma sequência de elementos, que podem ou não ser do mesmo tipo."
   ]
  },
  {
   "cell_type": "code",
   "execution_count": 1,
   "metadata": {},
   "outputs": [
    {
     "name": "stdout",
     "output_type": "stream",
     "text": [
      "O elemento Elisangela é do tipo:  <class 'str'>\n",
      "O elemento 36 é do tipo:  <class 'int'>\n",
      "O elemento True é do tipo:  <class 'bool'>\n",
      "O elemento 18 é do tipo:  <class 'str'>\n"
     ]
    }
   ],
   "source": [
    "lista = ['Elisangela', 36, True, '18']\n",
    "\n",
    "for elemento in lista:\n",
    "    print(f'O elemento {elemento} é do tipo: ', type(elemento))"
   ]
  },
  {
   "cell_type": "markdown",
   "metadata": {},
   "source": [
    "# Import\n",
    "\n",
    "Biblioteca random: O Python random é um módulo que faz parte da linguagem Python e é utilizado para gerar números pseudo-aleatórios. Também podemos selecionar os elementos de uma lista de forma aleatória ou exibir o seu resultado embaralhado.\n",
    "\n",
    "Importando o método randrange: O método random.randrange() retorna um número aleatório existente entre um determinado intervalo. A sintaxe do comando é random.randrange(start, stop, step) em que:\n",
    "\n",
    "*start*: indica o valor inicial, que pode ser incluído no resultado aleatório;\n",
    "\n",
    "*stop*: indica o ponto de parada e o valor não faz parte do resultado;\n",
    "\n",
    "*step*: representa um valor inteiro que será somado ao valor inicial para determinar o resultado. Se nenhum número for indicado, o valor correspondente será 1.\n",
    "\n",
    "Importando o método seed: O método random.seed() é utilizado para definir o número inicial inteiro que servirá como base para a geração de números flutuantes aleatórios. Portanto, ao definirmos um valor para seed(), dizemos ao compilador que os números aleatórios serão gerados com base no valor informado."
   ]
  },
  {
   "cell_type": "code",
   "execution_count": 13,
   "metadata": {},
   "outputs": [],
   "source": [
    "from random import randrange, seed"
   ]
  },
  {
   "cell_type": "code",
   "execution_count": 24,
   "metadata": {},
   "outputs": [
    {
     "data": {
      "text/plain": [
       "7"
      ]
     },
     "execution_count": 24,
     "metadata": {},
     "output_type": "execute_result"
    }
   ],
   "source": [
    "seed(9)\n",
    "\n",
    "randrange(0,11)"
   ]
  },
  {
   "cell_type": "code",
   "execution_count": 27,
   "metadata": {},
   "outputs": [
    {
     "name": "stdout",
     "output_type": "stream",
     "text": [
      "[6, 2, 7, 6, 2, 2, 3, 0]\n"
     ]
    },
    {
     "data": {
      "text/plain": [
       "8"
      ]
     },
     "execution_count": 27,
     "metadata": {},
     "output_type": "execute_result"
    }
   ],
   "source": [
    "notas_matematicas = []\n",
    "\n",
    "for notas in range(8):\n",
    "    notas_matematicas.append(randrange(0,11))\n",
    "\n",
    "print(notas_matematicas)\n",
    "len(notas_matematicas)"
   ]
  }
 ],
 "metadata": {
  "kernelspec": {
   "display_name": "Python 3.10.7 64-bit",
   "language": "python",
   "name": "python3"
  },
  "language_info": {
   "codemirror_mode": {
    "name": "ipython",
    "version": 3
   },
   "file_extension": ".py",
   "mimetype": "text/x-python",
   "name": "python",
   "nbconvert_exporter": "python",
   "pygments_lexer": "ipython3",
   "version": "3.10.7"
  },
  "orig_nbformat": 4,
  "vscode": {
   "interpreter": {
    "hash": "5342ee298d896bf651c754c9a7ec4f4fb7c550253babcb9815f06565ac018d91"
   }
  }
 },
 "nbformat": 4,
 "nbformat_minor": 2
}
