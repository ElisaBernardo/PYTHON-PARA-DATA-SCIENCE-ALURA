{
 "cells": [
  {
   "cell_type": "markdown",
   "metadata": {},
   "source": [
    "# **Aula 2) Parâmetros, condicionais e conversão de tipos**"
   ]
  },
  {
   "cell_type": "markdown",
   "metadata": {},
   "source": [
    "**Parâmetros** ou Argumentos: eu tenho um valor fora do escopo da minha função que quero passar os valores para a função como parâmetro, colocando dentro dos parênteses."
   ]
  },
  {
   "cell_type": "code",
   "execution_count": 1,
   "metadata": {},
   "outputs": [],
   "source": [
    "# Criando função - COM PARÂMETROS\n",
    "\n",
    "nome = 'Juliana'\n",
    "\n",
    "def saudacao_com_parametros(nome_da_pessoa):\n",
    "    print(f'Olá {nome_da_pessoa}. Seja bem vindo!')"
   ]
  },
  {
   "cell_type": "code",
   "execution_count": 2,
   "metadata": {},
   "outputs": [
    {
     "name": "stdout",
     "output_type": "stream",
     "text": [
      "Olá Juliana. Seja bem vindo!\n"
     ]
    }
   ],
   "source": [
    "saudacao_com_parametros(nome)"
   ]
  },
  {
   "cell_type": "markdown",
   "metadata": {},
   "source": [
    "# Exercício de função:\n",
    "\n",
    "Uma pessoa vai até a padaria todos os dias. A distância de sua casa até o estabelecimento é de 100 metros e todo percurso é feito em 20 segundos.\n",
    "\n",
    "Para calcular a velocidade média e descobrir a razão do espaço pelo tempo, podemos dividir o espaço percorrido pelo tempo.\n",
    "\n",
    "Sabendo disso, a pessoa deseja criar uma função chamada velocidade, que recebe 2 parâmetros chamados espaco e tempo, realizar o cálculo e exibir uma saída semelhante ao exemplo abaixo:\n",
    "\n",
    "Velocidade: 5 m/s"
   ]
  },
  {
   "cell_type": "code",
   "execution_count": 3,
   "metadata": {},
   "outputs": [
    {
     "name": "stdout",
     "output_type": "stream",
     "text": [
      "Velocidade: 5.0 m/s\n"
     ]
    }
   ],
   "source": [
    "def velocidade(espaco, tempo):     # O parâmetro diz que receberemos esses dois valores: espaço e tempo\n",
    "    v = espaco / tempo\n",
    "    print(f'Velocidade: {v} m/s')\n",
    "\n",
    "velocidade(100, 20)"
   ]
  },
  {
   "cell_type": "markdown",
   "metadata": {},
   "source": [
    "# Estrutura Condicional\n",
    "\n",
    "Uma estrutura condicional na linguagem Python, como a Python If Else, corresponde a um bloco de código que é iniciado com uma expressão para avaliar se uma determinada condição é verdadeira ou falsa.\n",
    "\n",
    "A condicional if é uma estrutura condicional que executa um trecho de código, caso a afirmação seja verdadeira. Se for falsa, executa as afirmações dentro de else."
   ]
  },
  {
   "cell_type": "code",
   "execution_count": 4,
   "metadata": {},
   "outputs": [
    {
     "name": "stdout",
     "output_type": "stream",
     "text": [
      "Não tem permissão para dirigir!\n"
     ]
    }
   ],
   "source": [
    "idade = 13\n",
    "\n",
    "def verifica_se_pode_dirigir(idade):\n",
    "    if idade >= 18:\n",
    "        print('Tem permissão para dirigir!')\n",
    "    else:\n",
    "        print('Não tem permissão para dirigir!')\n",
    "\n",
    "verifica_se_pode_dirigir(idade)"
   ]
  },
  {
   "cell_type": "markdown",
   "metadata": {},
   "source": [
    "# Conversão de tipos\n",
    "\n",
    "Toda entrada de dados (input) retorna um valor do tipo string. Alguns tipos de operação não são possíveis fazer esse tipo de variável. Nesses casos, devemos fazer a conversão do tipo de variável.\n",
    "No exemplo abaixo, podemos fazer a conversão de duas formas:\n",
    "\n",
    "1) Fazer a conversão diretamente no input:\n",
    "     \n",
    "idade = int(input('Qual é a sua idade? ')) \n",
    "\n",
    "2) Criar uma nova variável para fazer a conversão:\n",
    "    \n",
    "idade = input('Qual é a sua idade? ')\n",
    "\n",
    "idade = int(idade)"
   ]
  },
  {
   "cell_type": "code",
   "execution_count": 5,
   "metadata": {},
   "outputs": [
    {
     "name": "stdout",
     "output_type": "stream",
     "text": [
      "Tem permissão para dirigir!\n"
     ]
    }
   ],
   "source": [
    "def verifica_se_pode_dirigir_sem_parametros():\n",
    "    idade = int(input('Qual é a sua idade? '))    \n",
    "    if idade >= 18:\n",
    "        print('Tem permissão para dirigir!')\n",
    "    else:\n",
    "        print('Não tem permissão para dirigir!')\n",
    "\n",
    "verifica_se_pode_dirigir_sem_parametros()"
   ]
  },
  {
   "cell_type": "markdown",
   "metadata": {},
   "source": [
    "# Operadores de Comparação\n",
    "\n",
    "**a == b**\t -------  **a igual a b**\n",
    "\n",
    "**a != b**\t -------  **a diferente de b**\n",
    "\n",
    "**a < b** \t -------  **a menor do que b**\n",
    "\n",
    "**a > b**      -------  **a maior do que b**\n",
    "\n",
    "**a <= b**\t -------  **a menor ou igual a b**\n",
    "\n",
    "**a >= b**\t -------  **a maior ou igual a b**"
   ]
  }
 ],
 "metadata": {
  "kernelspec": {
   "display_name": "Python 3.10.7 64-bit",
   "language": "python",
   "name": "python3"
  },
  "language_info": {
   "codemirror_mode": {
    "name": "ipython",
    "version": 3
   },
   "file_extension": ".py",
   "mimetype": "text/x-python",
   "name": "python",
   "nbconvert_exporter": "python",
   "pygments_lexer": "ipython3",
   "version": "3.10.7"
  },
  "orig_nbformat": 4,
  "vscode": {
   "interpreter": {
    "hash": "5342ee298d896bf651c754c9a7ec4f4fb7c550253babcb9815f06565ac018d91"
   }
  }
 },
 "nbformat": 4,
 "nbformat_minor": 2
}
