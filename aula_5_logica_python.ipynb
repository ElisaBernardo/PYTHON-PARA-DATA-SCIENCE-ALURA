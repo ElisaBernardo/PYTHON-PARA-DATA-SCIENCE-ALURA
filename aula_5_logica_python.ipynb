{
  "cells": [
    {
      "cell_type": "markdown",
      "metadata": {
        "id": "ozAriLZZcrp8"
      },
      "source": [
        "# **Plotando com Matplotlib**\n",
        "\n",
        "Matplotlib é uma biblioteca abrangente para criar visualizações estáticas, animadas e interativas em Python. O Matplotlib torna as coisas fáceis fáceis e as difíceis possíveis.\n"
      ]
    },
    {
      "cell_type": "markdown",
      "metadata": {
        "id": "R9PCLJXzdJOX"
      },
      "source": [
        "# Criando um gráfico\n"
      ]
    },
    {
      "cell_type": "code",
      "execution_count": 12,
      "metadata": {
        "id": "mCr8wQ_pd58-"
      },
      "outputs": [],
      "source": [
        "import matplotlib.pyplot as plt\n",
        "import random\n",
        "from random import randrange\n",
        "\n"
      ]
    },
    {
      "cell_type": "code",
      "execution_count": 13,
      "metadata": {
        "colab": {
          "base_uri": "https://localhost:8080/"
        },
        "id": "4Irscwm7eML2",
        "outputId": "9c08674e-648e-4d41-9762-42538479fcb5"
      },
      "outputs": [
        {
          "name": "stdout",
          "output_type": "stream",
          "text": [
            "[4, 5, 9, 0, 10, 6, 4, 9]\n"
          ]
        }
      ],
      "source": []
    },
    {
      "cell_type": "code",
      "execution_count": 20,
      "metadata": {
        "colab": {
          "base_uri": "https://localhost:8080/",
          "height": 295
        },
        "id": "IyJVqJ6jdujW",
        "outputId": "e84a7e45-fcae-4bf0-c03a-9e96198180bc"
      },
      "outputs": [
        {
          "data": {
            "image/png": "[encoded data removed]",
            "text/plain": [
              "<Figure size 432x288 with 1 Axes>"
            ]
          },
          "metadata": {
            "needs_background": "light"
          },
          "output_type": "display_data"
        }
      ],
      "source": [
        "x = list (range(1,9))\n",
        "y = notas_matematicas\n",
        "\n",
        "plt.plot(x, y, marker='o')\n",
        "plt.title('Notas de Matemática')\n",
        "plt.xlabel('Provas')\n",
        "plt.ylabel('Notas')\n",
        "plt.show()\n"
      ]
    }
  ],
  "metadata": {
    "colab": {
      "collapsed_sections": [],
      "provenance": []
    },
    "kernelspec": {
      "display_name": "Python 3",
      "name": "python3"
    },
    "language_info": {
      "name": "python"
    }
  },
  "nbformat": 4,
  "nbformat_minor": 0
}
