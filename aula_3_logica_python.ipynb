{
 "cells": [
  {
   "cell_type": "markdown",
   "metadata": {},
   "source": [
    "# **Aula 3) Listas, repetições e tipos booleanos**"
   ]
  },
  {
   "cell_type": "markdown",
   "metadata": {},
   "source": [
    "# Lista \n",
    "\n",
    "Uma Lista ( list ) em Python, nada mais é que uma coleção ordenada de valores, separados por vírgula e dentro de colchetes [ ] . Elas são utilizadas para armazenar diversos itens em uma única variável."
   ]
  },
  {
   "cell_type": "code",
   "execution_count": 1,
   "metadata": {},
   "outputs": [
    {
     "data": {
      "text/plain": [
       "int"
      ]
     },
     "execution_count": 1,
     "metadata": {},
     "output_type": "execute_result"
    }
   ],
   "source": [
    "idade = 22\n",
    "\n",
    "type(idade)"
   ]
  },
  {
   "cell_type": "code",
   "execution_count": 2,
   "metadata": {},
   "outputs": [
    {
     "data": {
      "text/plain": [
       "list"
      ]
     },
     "execution_count": 2,
     "metadata": {},
     "output_type": "execute_result"
    }
   ],
   "source": [
    "idades = [22, 35, 60, 15, 41]\n",
    "# índices 0   1   2   3   4 \n",
    "# OU      0  -4  -3  -2  -1 \n",
    "\n",
    "\n",
    "type(idades)"
   ]
  },
  {
   "cell_type": "code",
   "execution_count": 3,
   "metadata": {},
   "outputs": [
    {
     "data": {
      "text/plain": [
       "60"
      ]
     },
     "execution_count": 3,
     "metadata": {},
     "output_type": "execute_result"
    }
   ],
   "source": [
    "idades[2]      # busca por um índice específico"
   ]
  },
  {
   "cell_type": "code",
   "execution_count": 4,
   "metadata": {},
   "outputs": [
    {
     "data": {
      "text/plain": [
       "[22, 35, 60]"
      ]
     },
     "execution_count": 4,
     "metadata": {},
     "output_type": "execute_result"
    }
   ],
   "source": [
    "idades[0:3]     # o segundo elemento será excluído da lista"
   ]
  },
  {
   "cell_type": "code",
   "execution_count": 5,
   "metadata": {},
   "outputs": [
    {
     "data": {
      "text/plain": [
       "[35, 60, 15, 41]"
      ]
     },
     "execution_count": 5,
     "metadata": {},
     "output_type": "execute_result"
    }
   ],
   "source": [
    "idades[1:]      # Para pegar do elemento na posição 1 até o final da lista (deixa vazio o segundo elemento)"
   ]
  },
  {
   "cell_type": "code",
   "execution_count": 6,
   "metadata": {},
   "outputs": [
    {
     "data": {
      "text/plain": [
       "41"
      ]
     },
     "execution_count": 6,
     "metadata": {},
     "output_type": "execute_result"
    }
   ],
   "source": [
    "idades[-1]      # Para pegar o último elemento da lista."
   ]
  },
  {
   "cell_type": "markdown",
   "metadata": {},
   "source": [
    "# Laço de repetição **FOR**\n",
    "\n",
    "Um laço FOR define a variável de iteração para cada valor em uma lista, array ou string fornecida e repete o código no corpo do laço for para cada valor da variável de iteração."
   ]
  },
  {
   "cell_type": "code",
   "execution_count": 7,
   "metadata": {},
   "outputs": [
    {
     "name": "stdout",
     "output_type": "stream",
     "text": [
      "18 anos de idade, TEM permissão para dirigir!\n",
      "12 anos de idade, NÃO TEM permissão para dirigir!\n",
      "25 anos de idade, TEM permissão para dirigir!\n",
      "50 anos de idade, TEM permissão para dirigir!\n",
      "9 anos de idade, NÃO TEM permissão para dirigir!\n"
     ]
    }
   ],
   "source": [
    "# FOR fora da função\n",
    "\n",
    "idades = [18, 12, 25, 50, 9]\n",
    "\n",
    "def verifica_se_pode_dirigir(idade):\n",
    "    if idade >= 18:\n",
    "        print(f'{idade} anos de idade, TEM permissão para dirigir!')\n",
    "    else:\n",
    "        print(f'{idade} anos de idade, NÃO TEM permissão para dirigir!')\n",
    "\n",
    "for idade in idades:\n",
    "    verifica_se_pode_dirigir(idade)"
   ]
  },
  {
   "cell_type": "code",
   "execution_count": 8,
   "metadata": {},
   "outputs": [
    {
     "name": "stdout",
     "output_type": "stream",
     "text": [
      "18 anos de idade, TEM permissão para dirigir!\n",
      "12 anos de idade, NÃO TEM permissão para dirigir!\n",
      "25 anos de idade, TEM permissão para dirigir!\n",
      "50 anos de idade, TEM permissão para dirigir!\n",
      "9 anos de idade, NÃO TEM permissão para dirigir!\n"
     ]
    }
   ],
   "source": [
    "# FOR dentro da função, passando a lista como parâmetro\n",
    "\n",
    "def verifica_se_pode_dirigir(idades):\n",
    "    for idade in idades:\n",
    "       if idade >= 18:\n",
    "        print(f'{idade} anos de idade, TEM permissão para dirigir!')\n",
    "       else:\n",
    "        print(f'{idade} anos de idade, NÃO TEM permissão para dirigir!') \n",
    "\n",
    "verifica_se_pode_dirigir(idades)"
   ]
  },
  {
   "cell_type": "markdown",
   "metadata": {},
   "source": [
    "# Tipo Booleano \n",
    "\n",
    "O tipo booleano Python é um dos tipos de dados internos fornecidos pelo Python, que são definidos pelas palavras-chave True ou False. Geralmente, é usado para representar os valores verdade das expressões. A saída <class 'bool'> indica que a variável é um tipo de dados booleano."
   ]
  },
  {
   "cell_type": "code",
   "execution_count": 9,
   "metadata": {},
   "outputs": [
    {
     "data": {
      "text/plain": [
       "True"
      ]
     },
     "execution_count": 9,
     "metadata": {},
     "output_type": "execute_result"
    }
   ],
   "source": [
    "idade = 18\n",
    "\n",
    "idade >= 18"
   ]
  },
  {
   "cell_type": "code",
   "execution_count": 10,
   "metadata": {},
   "outputs": [
    {
     "data": {
      "text/plain": [
       "False"
      ]
     },
     "execution_count": 10,
     "metadata": {},
     "output_type": "execute_result"
    }
   ],
   "source": [
    "idade = 15\n",
    "\n",
    "idade >= 18"
   ]
  },
  {
   "cell_type": "code",
   "execution_count": 11,
   "metadata": {},
   "outputs": [
    {
     "data": {
      "text/plain": [
       "[True, False, True]"
      ]
     },
     "execution_count": 11,
     "metadata": {},
     "output_type": "execute_result"
    }
   ],
   "source": [
    "permissoes =[]    # lista vazia\n",
    "idades = [20, 14, 40]\n",
    "\n",
    "def verifica_se_pode_dirigir(idades, permissoes):\n",
    "    for idade in idades:\n",
    "        if idade >= 18:\n",
    "            permissoes.append(True)       #adiciona o valor True na lista permissoes\n",
    "        else:\n",
    "            permissoes.append(False)\n",
    "\n",
    "verifica_se_pode_dirigir(idades, permissoes)\n",
    "\n",
    "permissoes"
   ]
  },
  {
   "cell_type": "code",
   "execution_count": 12,
   "metadata": {},
   "outputs": [
    {
     "name": "stdout",
     "output_type": "stream",
     "text": [
      "Tem permissão para dirigir!\n",
      "Não tem permissão para dirigir!\n",
      "Tem permissão para dirigir!\n"
     ]
    }
   ],
   "source": [
    "for permissao in permissoes:\n",
    "    if permissao == True:\n",
    "        print('Tem permissão para dirigir!')\n",
    "    else:\n",
    "        print('Não tem permissão para dirigir!')"
   ]
  }
 ],
 "metadata": {
  "kernelspec": {
   "display_name": "Python 3.10.7 64-bit",
   "language": "python",
   "name": "python3"
  },
  "language_info": {
   "codemirror_mode": {
    "name": "ipython",
    "version": 3
   },
   "file_extension": ".py",
   "mimetype": "text/x-python",
   "name": "python",
   "nbconvert_exporter": "python",
   "pygments_lexer": "ipython3",
   "version": "3.10.7"
  },
  "orig_nbformat": 4,
  "vscode": {
   "interpreter": {
    "hash": "5342ee298d896bf651c754c9a7ec4f4fb7c550253babcb9815f06565ac018d91"
   }
  }
 },
 "nbformat": 4,
 "nbformat_minor": 2
}
